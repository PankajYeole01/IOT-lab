{
 "cells": [
  {
   "cell_type": "code",
   "execution_count": 1,
   "id": "5a647141-523f-497e-ab8a-424804f62aa6",
   "metadata": {},
   "outputs": [
    {
     "name": "stdout",
     "output_type": "stream",
     "text": [
      "Requirement already satisfied: cryptography in /opt/conda/lib/python3.10/site-packages (38.0.4)\n",
      "Requirement already satisfied: cffi>=1.12 in /opt/conda/lib/python3.10/site-packages (from cryptography) (1.15.1)\n",
      "Requirement already satisfied: pycparser in /opt/conda/lib/python3.10/site-packages (from cffi>=1.12->cryptography) (2.21)\n",
      "Note: you may need to restart the kernel to use updated packages.\n"
     ]
    }
   ],
   "source": [
    "pip install cryptography"
   ]
  },
  {
   "cell_type": "code",
   "execution_count": 3,
   "id": "9bb187db-8b3a-49d5-905d-2550c0a50b38",
   "metadata": {},
   "outputs": [],
   "source": [
    "from cryptography.fernet import Fernet "
   ]
  },
  {
   "cell_type": "code",
   "execution_count": 12,
   "id": "a6590aae-6208-4c6c-a802-68120789084f",
   "metadata": {},
   "outputs": [
    {
     "name": "stdout",
     "output_type": "stream",
     "text": [
      "This is our plaintext msg 'This is python lab for IOT'\n",
      "This is our cyphertext msg b'gAAAAABju9EJy1_DzUWYlb8luUdybpksncZ1cCttld181z-elHFP5FwIhIF9zPb8USdQtsYYNN0X8Fs_c5saA-PWRtH0BRWnvFAklrOS4eq1OOxoLGMfMtM='\n",
      "Msg decoded at destination\n",
      "The decoded msg at destination is 'This is python lab for IOT'\n"
     ]
    }
   ],
   "source": [
    "key = Fernet.generate_key()\n",
    "message=\"This is python lab for IOT\"\n",
    "fernet = Fernet(key)\n",
    "encMsg =fernet.encrypt(message.encode())\n",
    "print(f\"This is our plaintext msg '{message}'\")\n",
    "print(f\"This is our cyphertext msg {encMsg}\")\n",
    "print(\"Msg decoded at destination\")\n",
    "decMsg=fernet.decrypt(encMsg).decode()\n",
    "print(f\"The decoded msg at destination is '{decMsg}'\")"
   ]
  },
  {
   "cell_type": "code",
   "execution_count": null,
   "id": "e58a240c-bc24-4148-936d-18ecd9a68275",
   "metadata": {},
   "outputs": [],
   "source": []
  },
  {
   "cell_type": "code",
   "execution_count": null,
   "id": "cb853dd2-0822-470f-b520-6652fd9b3b69",
   "metadata": {},
   "outputs": [],
   "source": []
  }
 ],
 "metadata": {
  "kernelspec": {
   "display_name": "Python 3 (ipykernel)",
   "language": "python",
   "name": "python3"
  },
  "language_info": {
   "codemirror_mode": {
    "name": "ipython",
    "version": 3
   },
   "file_extension": ".py",
   "mimetype": "text/x-python",
   "name": "python",
   "nbconvert_exporter": "python",
   "pygments_lexer": "ipython3",
   "version": "3.10.8"
  }
 },
 "nbformat": 4,
 "nbformat_minor": 5
}
